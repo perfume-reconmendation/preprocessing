{
 "cells": [
  {
   "cell_type": "code",
   "execution_count": 2,
   "metadata": {
    "collapsed": true
   },
   "outputs": [
    {
     "data": {
      "text/plain": "'classy fresh fragrance, i can never get tired of this scent.The perfect summer scent for any man. It'"
     },
     "execution_count": 2,
     "metadata": {},
     "output_type": "execute_result"
    }
   ],
   "source": [
    "f = open('./serialized_review.txt', 'r', encoding='latin1')\n",
    "content = f.read()\n",
    "f.close()\n",
    "\n",
    "content[:100]"
   ]
  },
  {
   "cell_type": "code",
   "execution_count": 3,
   "outputs": [
    {
     "name": "stdout",
     "output_type": "stream",
     "text": [
      "['classy', 'fresh', 'fragrance', ',', 'i', 'can', 'never', 'get', 'tired', 'of', 'this', 'scent.The', 'perfect', 'summer', 'scent', 'for', 'any', 'man.', 'It', 'is', 'a', 'timeless', 'classic', 'and', 'has', 'the', 'most', 'bottles', 'ever', 'sold', 'for', 'a', 'reason.', 'This', 'is', 'fresh', 'but', 'just', 'smells', 'so', 'damn', 'good.', 'I', 'have', 'finished', 'a', 'few', 'bottles', 'of', 'this', 'and', 'will', 'continue', 'to', 'buy', 'when', 'the', 'sun', 'comes', 'out', 'and', 'it', 'gets', 'hot.', 'It', \"'s\", 'light', 'and', 'non-offensive', 'but', 'with', 'a', 'hint', 'of', 'citrus', 'it', \"'s\", 'fresh', 'and', 'vibrant.', 'Great', 'compliment', 'getter.', 'Simple', 'and', 'wonderful', ';', 'you', 'ca', \"n't\", 'go', 'wrong', 'with', 'Acqua', 'di', 'Gio.I', \"'ve\", 'worn', 'this', 'for', 'years.', 'Trust', 'me', ',', 'if', 'you', 'want', 'to', 'smell', 'good.', 'Buy', 'it.', 'If', 'you', 'want', 'to', 'smell', 'fresh.', 'Buy', 'it.', 'If', 'you', 'want', 'to', 'smell', 'appealing.', 'Buy', 'it.', 'If', 'you', 'want', 'to', 'get', 'compliments.', 'Buy', 'it.Daha', 'gÃ\\x83Â¼zeli', 'yok.Ama', 'herkeste', 'var', ':', '(', 'Wore', 'this', 'one', 'back', 'in', 'the', 'fall', 'of', '2003', ',', 'I', 'believe', 'it', 'was.', 'At', 'eh', 'time', ',', 'I', 'really', 'enjoyed', 'the', 'scent.', 'My', 'nose', 'was', 'still', 'new', 'to', 'frags', 'and', 'I', 'just', 'thought', 'it', 'smelled', 'nice.', 'I', 'only', 'finished', 'one', 'bottle', 'and', 'never', 'purchased', 'it', 'again.', 'I', 'started', 'smelling', 'it', 'everywhere', 'on', 'everyone', 'and', 'their', 'dog.', 'I', 'was', 'sure']\n"
     ]
    }
   ],
   "source": [
    "from nltk.tokenize import TreebankWordTokenizer\n",
    "tokenizer=TreebankWordTokenizer()\n",
    "print(tokenizer.tokenize(content[:1000]))"
   ],
   "metadata": {
    "collapsed": false,
    "pycharm": {
     "name": "#%%\n"
    }
   }
  },
  {
   "cell_type": "code",
   "execution_count": null,
   "outputs": [],
   "source": [],
   "metadata": {
    "collapsed": false,
    "pycharm": {
     "name": "#%%\n"
    }
   }
  }
 ],
 "metadata": {
  "kernelspec": {
   "display_name": "Python 3",
   "language": "python",
   "name": "python3"
  },
  "language_info": {
   "codemirror_mode": {
    "name": "ipython",
    "version": 2
   },
   "file_extension": ".py",
   "mimetype": "text/x-python",
   "name": "python",
   "nbconvert_exporter": "python",
   "pygments_lexer": "ipython2",
   "version": "2.7.6"
  }
 },
 "nbformat": 4,
 "nbformat_minor": 0
}