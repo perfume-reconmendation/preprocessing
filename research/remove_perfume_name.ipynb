{
 "cells": [
  {
   "cell_type": "markdown",
   "source": [
    "## 향수 이름 & 브랜드 제거\n",
    "\n",
    "* 우선 브랜드와 향수 list up"
   ],
   "metadata": {
    "collapsed": false
   }
  },
  {
   "cell_type": "code",
   "execution_count": null,
   "outputs": [],
   "source": [
    "import pandas as pd\n",
    "\n",
    "df = pd.read_csv('./top_90_by_gender.csv')\n",
    "names = list(set(df['name']))\n",
    "\n",
    "names_serial = ''\n",
    "for name in names:\n",
    "    names_serial = names_serial + ' ' + name\n",
    "\n",
    "names_serial"
   ],
   "metadata": {
    "collapsed": false,
    "pycharm": {
     "name": "#%%\n"
    }
   }
  },
  {
   "cell_type": "code",
   "execution_count": null,
   "outputs": [],
   "source": [
    "from nltk.tokenize import TreebankWordTokenizer\n",
    "\n",
    "tokenizer = TreebankWordTokenizer()\n",
    "tokenized_names = tokenizer.tokenize(names_serial)\n",
    "tokenized_names = custom_process(tokenized_names)\n",
    "tokenized_names = list(set(tokenized_names))\n",
    "tokenized_names"
   ],
   "metadata": {
    "collapsed": false,
    "pycharm": {
     "name": "#%%\n"
    }
   }
  },
  {
   "cell_type": "code",
   "execution_count": null,
   "outputs": [],
   "source": [
    "import json\n",
    "\n",
    "serialized = json.dumps(tokenized_names)\n",
    "f = open('./perfume_name_words_new.json', 'w')\n",
    "f.write(serialized)\n",
    "f.close()"
   ],
   "metadata": {
    "collapsed": false,
    "pycharm": {
     "name": "#%%\n"
    }
   }
  }
 ],
 "metadata": {
  "kernelspec": {
   "name": "pycharm-1e7c8704",
   "language": "python",
   "display_name": "PyCharm (preprocessing)"
  },
  "language_info": {
   "codemirror_mode": {
    "name": "ipython",
    "version": 2
   },
   "file_extension": ".py",
   "mimetype": "text/x-python",
   "name": "python",
   "nbconvert_exporter": "python",
   "pygments_lexer": "ipython2",
   "version": "2.7.6"
  }
 },
 "nbformat": 4,
 "nbformat_minor": 0
}