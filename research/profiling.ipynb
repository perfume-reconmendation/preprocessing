{
 "cells": [
  {
   "cell_type": "code",
   "execution_count": 2,
   "metadata": {
    "collapsed": true
   },
   "outputs": [],
   "source": [
    "import pandas as pd\n",
    "import pandas_profiling\n",
    "data = pd.read_csv('./top_90_by_gender.csv',encoding='latin1')"
   ]
  },
  {
   "cell_type": "code",
   "execution_count": null,
   "outputs": [],
   "source": [
    "pr=data.profile_report() # 프로파일링 결과 리포트를 pr에 저장\n",
    "pr.to_file('./pr_report.html')"
   ],
   "metadata": {
    "collapsed": false,
    "pycharm": {
     "name": "#%%\n"
    }
   }
  },
  {
   "cell_type": "code",
   "execution_count": 4,
   "outputs": [
    {
     "data": {
      "text/plain": "0    Got a sample of this today, and my 9 year old ...\n1    First impressions. Test on blotter.\\nI have he...\n2    This perfume reminds me of my best friend. Act...\n3    Imagine tripping over your own feet and fallin...\n4    Gorgeous Gorgeous Blend ..\\nLove the scent...\\...\nName: review, dtype: object"
     },
     "execution_count": 4,
     "metadata": {},
     "output_type": "execute_result"
    }
   ],
   "source": [
    "from nltk.tokenize import sent_tokenize\n",
    "\n",
    "data.head()['review']"
   ],
   "metadata": {
    "collapsed": false,
    "pycharm": {
     "name": "#%%\n"
    }
   }
  },
  {
   "cell_type": "markdown",
   "source": [
    "## 데이터 전처리 시작"
   ],
   "metadata": {
    "collapsed": false,
    "pycharm": {
     "name": "#%% md\n"
    }
   }
  },
  {
   "cell_type": "code",
   "execution_count": null,
   "outputs": [],
   "source": [
    "import numpy as np\n",
    "import pandas as pd\n",
    "import matplotlib.pyplot as plt\n",
    "\n",
    "from tensorflow.keras.preprocessing.text import Tokenizer\n",
    "from tensorflow.keras.preprocessing.sequence import pad_sequences"
   ],
   "metadata": {
    "collapsed": false,
    "pycharm": {
     "name": "#%%\n"
    }
   }
  },
  {
   "cell_type": "code",
   "execution_count": 5,
   "outputs": [
    {
     "name": "stdout",
     "output_type": "stream",
     "text": [
      "총 샘플의 수 : 75001\n"
     ]
    }
   ],
   "source": [
    "print('총 샘플의 수 :', len(data))"
   ],
   "metadata": {
    "collapsed": false,
    "pycharm": {
     "name": "#%%\n"
    }
   }
  },
  {
   "cell_type": "code",
   "execution_count": 6,
   "outputs": [
    {
     "data": {
      "text/plain": "   gender                    name                             accords  \\\n0  female  Alien Mugler for women  ['white floral', 'amber', 'woody']   \n1  female  Alien Mugler for women  ['white floral', 'amber', 'woody']   \n2  female  Alien Mugler for women  ['white floral', 'amber', 'woody']   \n3  female  Alien Mugler for women  ['white floral', 'amber', 'woody']   \n4  female  Alien Mugler for women  ['white floral', 'amber', 'woody']   \n\n                                              review  \n0  Got a sample of this today, and my 9 year old ...  \n1  First impressions. Test on blotter.\\nI have he...  \n2  This perfume reminds me of my best friend. Act...  \n3  Imagine tripping over your own feet and fallin...  \n4  Gorgeous Gorgeous Blend ..\\nLove the scent...\\...  ",
      "text/html": "<div>\n<style scoped>\n    .dataframe tbody tr th:only-of-type {\n        vertical-align: middle;\n    }\n\n    .dataframe tbody tr th {\n        vertical-align: top;\n    }\n\n    .dataframe thead th {\n        text-align: right;\n    }\n</style>\n<table border=\"1\" class=\"dataframe\">\n  <thead>\n    <tr style=\"text-align: right;\">\n      <th></th>\n      <th>gender</th>\n      <th>name</th>\n      <th>accords</th>\n      <th>review</th>\n    </tr>\n  </thead>\n  <tbody>\n    <tr>\n      <th>0</th>\n      <td>female</td>\n      <td>Alien Mugler for women</td>\n      <td>['white floral', 'amber', 'woody']</td>\n      <td>Got a sample of this today, and my 9 year old ...</td>\n    </tr>\n    <tr>\n      <th>1</th>\n      <td>female</td>\n      <td>Alien Mugler for women</td>\n      <td>['white floral', 'amber', 'woody']</td>\n      <td>First impressions. Test on blotter.\\nI have he...</td>\n    </tr>\n    <tr>\n      <th>2</th>\n      <td>female</td>\n      <td>Alien Mugler for women</td>\n      <td>['white floral', 'amber', 'woody']</td>\n      <td>This perfume reminds me of my best friend. Act...</td>\n    </tr>\n    <tr>\n      <th>3</th>\n      <td>female</td>\n      <td>Alien Mugler for women</td>\n      <td>['white floral', 'amber', 'woody']</td>\n      <td>Imagine tripping over your own feet and fallin...</td>\n    </tr>\n    <tr>\n      <th>4</th>\n      <td>female</td>\n      <td>Alien Mugler for women</td>\n      <td>['white floral', 'amber', 'woody']</td>\n      <td>Gorgeous Gorgeous Blend ..\\nLove the scent...\\...</td>\n    </tr>\n  </tbody>\n</table>\n</div>"
     },
     "execution_count": 6,
     "metadata": {},
     "output_type": "execute_result"
    }
   ],
   "source": [
    "data[:5]"
   ],
   "metadata": {
    "collapsed": false,
    "pycharm": {
     "name": "#%%\n"
    }
   }
  },
  {
   "cell_type": "code",
   "execution_count": 18,
   "outputs": [
    {
     "ename": "TypeError",
     "evalue": "unsupported operand type(s) for +: 'float' and 'str'",
     "output_type": "error",
     "traceback": [
      "\u001B[0;31m---------------------------------------------------------------------------\u001B[0m",
      "\u001B[0;31mTypeError\u001B[0m                                 Traceback (most recent call last)",
      "\u001B[0;32m<ipython-input-18-cb9a8a971c1c>\u001B[0m in \u001B[0;36m<module>\u001B[0;34m\u001B[0m\n\u001B[1;32m      3\u001B[0m \u001B[0;34m\u001B[0m\u001B[0m\n\u001B[1;32m      4\u001B[0m \u001B[0;32mfor\u001B[0m \u001B[0mreview\u001B[0m \u001B[0;32min\u001B[0m \u001B[0mreviews\u001B[0m\u001B[0;34m:\u001B[0m\u001B[0;34m\u001B[0m\u001B[0;34m\u001B[0m\u001B[0m\n\u001B[0;32m----> 5\u001B[0;31m     \u001B[0mconcat_review\u001B[0m \u001B[0;34m=\u001B[0m \u001B[0mreview\u001B[0m \u001B[0;34m+\u001B[0m \u001B[0mconcat_review\u001B[0m\u001B[0;34m\u001B[0m\u001B[0;34m\u001B[0m\u001B[0m\n\u001B[0m\u001B[1;32m      6\u001B[0m \u001B[0;34m\u001B[0m\u001B[0m\n\u001B[1;32m      7\u001B[0m \u001B[0mprint\u001B[0m\u001B[0;34m(\u001B[0m\u001B[0mconcat_review\u001B[0m\u001B[0;34m[\u001B[0m\u001B[0;36m0\u001B[0m\u001B[0;34m:\u001B[0m\u001B[0;36m100\u001B[0m\u001B[0;34m]\u001B[0m\u001B[0;34m)\u001B[0m\u001B[0;34m\u001B[0m\u001B[0;34m\u001B[0m\u001B[0m\n",
      "\u001B[0;31mTypeError\u001B[0m: unsupported operand type(s) for +: 'float' and 'str'"
     ]
    }
   ],
   "source": [
    "reviews = data['review']\n",
    "concat_review = ''\n",
    "\n",
    "for review in reviews:\n",
    "    concat_review = review + concat_review"
   ],
   "metadata": {
    "collapsed": false,
    "pycharm": {
     "name": "#%%\n"
    }
   }
  },
  {
   "cell_type": "code",
   "execution_count": 23,
   "outputs": [
    {
     "name": "stdout",
     "output_type": "stream",
     "text": [
      "classy fresh fragrance, i can never get tired of this scent.The perfect summer scent for any man. It\n"
     ]
    }
   ],
   "source": [
    "print(concat_review[:100])"
   ],
   "metadata": {
    "collapsed": false,
    "pycharm": {
     "name": "#%%\n"
    }
   }
  },
  {
   "cell_type": "code",
   "execution_count": 24,
   "outputs": [],
   "source": [
    "f = open('./serialized_review.txt', 'w')\n",
    "f.write(concat_review)\n",
    "f.close()"
   ],
   "metadata": {
    "collapsed": false,
    "pycharm": {
     "name": "#%%\n"
    }
   }
  },
  {
   "cell_type": "code",
   "execution_count": null,
   "outputs": [],
   "source": [],
   "metadata": {
    "collapsed": false,
    "pycharm": {
     "name": "#%%\n"
    }
   }
  }
 ],
 "metadata": {
  "kernelspec": {
   "name": "pycharm-44b432d6",
   "language": "python",
   "display_name": "PyCharm (perfume_preprocessing)"
  },
  "language_info": {
   "codemirror_mode": {
    "name": "ipython",
    "version": 2
   },
   "file_extension": ".py",
   "mimetype": "text/x-python",
   "name": "python",
   "nbconvert_exporter": "python",
   "pygments_lexer": "ipython2",
   "version": "2.7.6"
  }
 },
 "nbformat": 4,
 "nbformat_minor": 0
}